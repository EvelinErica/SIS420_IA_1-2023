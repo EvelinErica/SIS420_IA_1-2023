{
  "nbformat": 4,
  "nbformat_minor": 0,
  "metadata": {
    "colab": {
      "provenance": []
    },
    "kernelspec": {
      "name": "python3",
      "display_name": "Python 3"
    },
    "language_info": {
      "name": "python"
    }
  },
  "cells": [
    {
      "cell_type": "code",
      "execution_count": null,
      "metadata": {
        "id": "6rnkgAHfNg8t"
      },
      "outputs": [],
      "source": [
        "import time"
      ]
    },
    {
      "cell_type": "code",
      "source": [
        "class Nodo:\n",
        "    def __init__(self, estado, hijo=None):\n",
        "        self.estado = estado\n",
        "        self.hijo = None\n",
        "        self.padre = None\n",
        "        self.set_hijo(hijo)\n",
        "\n",
        "    def set_estado(self, estado):\n",
        "        self.estado = estado\n",
        "\n",
        "    def get_estado(self):\n",
        "        return self.estado\n",
        "\n",
        "    def set_hijo(self, hijo):\n",
        "        self.hijo = hijo\n",
        "        if self.hijo is not None:\n",
        "            for s in self.hijo:\n",
        "                s.padre = self\n",
        "\n",
        "    def get_hijo(self):\n",
        "        return self.hijo\n",
        "\n",
        "    def set_padre(self, padre):\n",
        "        self.padre = padre\n",
        "\n",
        "    def get_padre(self):\n",
        "        return self.padre\n",
        "\n",
        "    def equal(self, Nodo):\n",
        "        if self.get_estado() == Nodo.get_estado():\n",
        "            return True\n",
        "        else:\n",
        "            return False\n",
        "\n",
        "    def en_lista(self, lista_nodos):\n",
        "        enlistado = False\n",
        "        for n in lista_nodos:\n",
        "            if self.equal(n):\n",
        "                enlistado = True\n",
        "        return enlistado\n",
        "\n",
        "    def __str__(self):\n",
        "        return str(self.get_estado())"
      ],
      "metadata": {
        "id": "x611zQ--Nlbu"
      },
      "execution_count": null,
      "outputs": []
    },
    {
      "cell_type": "code",
      "source": [
        "def busqueda_BPPR(nodo_inicial, solucion, visitado):\n",
        "    visitado.append(nodo_inicial.get_estado())\n",
        "    if nodo_inicial.get_estado() == solucion:\n",
        "        return nodo_inicial\n",
        "    else:\n",
        "        datos_nodo = nodo_inicial.get_estado()\n",
        "        hijos = []\n",
        "\n",
        "        # GENERAR NODOS HIJOS\n",
        "        for i in range(len(datos_nodo)):\n",
        "            for j in range(len(datos_nodo)):\n",
        "                if i != j:\n",
        "                    hijo = list(datos_nodo)\n",
        "                    # print('hijo->', hijo)\n",
        "                    aux = hijo[i]\n",
        "                    hijo[i] = hijo[j]\n",
        "                    hijo[j] = aux\n",
        "                    hijos.append(Nodo(hijo))\n",
        "        nodo_inicial.set_hijo(hijos)\n",
        "\n",
        "        for nodo_hijo in nodo_inicial.get_hijo():\n",
        "            if not nodo_hijo.get_estado() in visitado:\n",
        "                # Recursividad\n",
        "                Solution = busqueda_BPPR(nodo_hijo, solucion, visitado)\n",
        "                if Solution is not None:\n",
        "                    return Solution\n",
        "        print('No se encontro solucion')\n",
        "        return None\n",
        "\n",
        "\n",
        "if __name__ == \"__main__\":\n",
        "    num_digitos = int(\n",
        "        input(\"Ingrese el número de dígitos del estado inicial: \"))\n",
        "    # INPUT ESTADO INICIAL\n",
        "    estado_inicial = []\n",
        "    for i in range(num_digitos):\n",
        "        estado_inicial.append(\n",
        "            int(input(\"Elemento [\"+str(i)+\"] del estado inicial: \")))\n",
        "    # INPUT SOLUCION\n",
        "    solucion = []\n",
        "    for i in range(num_digitos):\n",
        "        solucion.append(\n",
        "            int(input(\"Elemento [\"+str(i)+\"] de la solución: \")))\n",
        "    nodo_solucion = None\n",
        "    visitado = []\n",
        "    nodo_inicial = Nodo(estado_inicial)\n",
        "    inicio = time.time()\n",
        "    nodo_actual = busqueda_BPPR(nodo_inicial, solucion, visitado)\n",
        "    fin = time.time()\n",
        "\n",
        "    tiempo_ejecucion = fin - inicio\n",
        "    resultado = []\n",
        "    while nodo_actual.get_padre() is not None:\n",
        "        resultado.append(nodo_actual.get_estado())\n",
        "        nodo_actual = nodo_actual.get_padre()\n",
        "    resultado.append(estado_inicial)\n",
        "    resultado.reverse()\n",
        "\n",
        "    for e in resultado:\n",
        "        print(e)\n",
        "\n",
        "    print('Se llego al resultado en:', tiempo_ejecucion, 'segundos')"
      ],
      "metadata": {
        "colab": {
          "base_uri": "https://localhost:8080/"
        },
        "id": "7Y91W4YTNleo",
        "outputId": "a351ba7a-b32e-404b-f69d-ebd7e95a65e2"
      },
      "execution_count": null,
      "outputs": [
        {
          "output_type": "stream",
          "name": "stdout",
          "text": [
            "Ingrese el número de dígitos del estado inicial: 3\n",
            "Elemento [0] del estado inicial: 2\n",
            "Elemento [1] del estado inicial: 1\n",
            "Elemento [2] del estado inicial: 3\n",
            "Elemento [0] de la solución: 1\n",
            "Elemento [1] de la solución: 2\n",
            "Elemento [2] de la solución: 3\n",
            "[2, 1, 3]\n",
            "[1, 2, 3]\n",
            "Se llego al resultado en: 2.8371810913085938e-05 segundos\n"
          ]
        }
      ]
    }
  ]
}